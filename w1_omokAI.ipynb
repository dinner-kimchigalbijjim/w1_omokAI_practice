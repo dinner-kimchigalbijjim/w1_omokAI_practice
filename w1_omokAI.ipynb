{
 "cells": [
  {
   "cell_type": "markdown",
   "id": "f161f4de-5b12-47bc-98fb-eeb42c2a9803",
   "metadata": {},
   "source": [
    "#### 데이터 불러오기"
   ]
  },
  {
   "cell_type": "code",
   "execution_count": 3,
   "id": "83d04545-fc4e-462a-95f8-a4d1d9b7640a",
   "metadata": {
    "tags": []
   },
   "outputs": [],
   "source": [
    "import numpy as np\n",
    "import os\n",
    "from glob import glob\n",
    "from tqdm import tqdm\n",
    "\n",
    "'''\n",
    "Dataset from https://gomocup.org/results/\n",
    "'''\n",
    "game_rule1 = 'freestyle' #2009년 데이터는 소문자로 시작하더라고요.. \n",
    "game_rule2 = 'Freestyle' # Freestyle, Fastgame, Standard, Renju\n",
    "#base_path = '/Users/brad/Downloads/gomocup2019results' \n",
    "\n",
    "base_path1 = '/Users/hanjunghwa/Downloads/gomocup2019results'\n",
    "base_path2 = '/Users/hanjunghwa/Downloads/gomocup2009results'\n",
    "\n",
    "#output_path = os.path.join('dataset', os.path.basename(base_path))\n",
    "#os.makedirs(output_path, exist_ok=True)\n",
    "\n",
    "output_path1 = os.path.join('dataset', os.path.basename(base_path1))\n",
    "os.makedirs(output_path1, exist_ok=True)\n",
    "\n",
    "output_path2 = os.path.join('dataset', os.path.basename(base_path2))\n",
    "os.makedirs(output_path2, exist_ok=True)\n",
    "\n",
    "#file_list = glob(os.path.join(base_path, '%s*/*.psq' % (game_rule, )))\n",
    "\n",
    "file_list1 = glob(os.path.join(base_path1, '%s*/*.psq' % (game_rule2, )))\n",
    "file_list2 = glob(os.path.join(base_path2, '%s*/*.psq' % (game_rule1, )))\n",
    "file_list = file_list1 + file_list2"
   ]
  },
  {
   "cell_type": "code",
   "execution_count": 4,
   "id": "2eda34be-038c-4cd3-8a4b-25cc0342d2bb",
   "metadata": {
    "tags": []
   },
   "outputs": [
    {
     "name": "stdout",
     "output_type": "stream",
     "text": [
      "2009년 freestyle 데이터 : 10224\n",
      "2019년 freestyle 데이터 : 864\n",
      "학습할 데이터 : 11088\n",
      "dataset/gomocup2019results\n",
      "dataset/gomocup2009results\n"
     ]
    }
   ],
   "source": [
    "#read_dataset.py에서 데이터 잘 불러왔는지 확인용 \n",
    "print(f\"2009년 freestyle 데이터 : {len(file_list1)}\")\n",
    "print(f\"2019년 freestyle 데이터 : {len(file_list2)}\")\n",
    "print(f\"학습할 데이터 : {len(file_list)}\")\n",
    "print(output_path1)\n",
    "print(output_path2)"
   ]
  },
  {
   "cell_type": "markdown",
   "id": "5f776bce-08cc-4512-a6fb-82512b734862",
   "metadata": {},
   "source": [
    "#### 데이터 전처리"
   ]
  },
  {
   "cell_type": "code",
   "execution_count": 5,
   "id": "dbbd2fee-6ada-4742-9673-63924b77298a",
   "metadata": {
    "tags": []
   },
   "outputs": [
    {
     "name": "stderr",
     "output_type": "stream",
     "text": [
      "100%|████████████████████████████████████| 11088/11088 [00:56<00:00, 195.85it/s]\n"
     ]
    }
   ],
   "source": [
    "for index, file_path in enumerate(tqdm(file_list)):\n",
    "    with open(file_path, 'r') as f:\n",
    "        lines = f.read().splitlines() \n",
    "\n",
    "    w, h = lines[0].split(' ')[1].strip(',').split('x')\n",
    "    w, h = int(w), int(h)\n",
    "\n",
    "    lines = lines[1:]\n",
    "\n",
    "    inputs, outputs = [], []\n",
    "    board = np.zeros([h, w], dtype=np.int8)\n",
    "\n",
    "    for i, line in enumerate(lines):\n",
    "        if ',' not in line:\n",
    "            break\n",
    "\n",
    "        x, y, t = np.array(line.split(','), np.int8)\n",
    "\n",
    "        if i % 2 == 0:\n",
    "            player = 1\n",
    "        else:\n",
    "            player = 2\n",
    "\n",
    "        input = board.copy().astype(np.int8)\n",
    "        input[(input != player) & (input != 0)] = -1\n",
    "        input[(input == player) & (input != 0)] = 1\n",
    "\n",
    "        output = np.zeros([h, w], dtype=np.int8)\n",
    "        output[y-1, x-1] = 1\n",
    "\n",
    "        # augmentation\n",
    "        # rotate 4 x flip 3 = 12\n",
    "        for k in range(4):\n",
    "            input_rot = np.rot90(input, k=k)\n",
    "            output_rot = np.rot90(output, k=k)\n",
    "\n",
    "            inputs.append(input_rot)\n",
    "            outputs.append(output_rot)\n",
    "\n",
    "            inputs.append(np.fliplr(input_rot))\n",
    "            outputs.append(np.fliplr(output_rot))\n",
    "\n",
    "            inputs.append(np.flipud(input_rot))\n",
    "            outputs.append(np.flipud(output_rot))\n",
    "\n",
    "        # update board\n",
    "        board[y-1, x-1] = player\n",
    "\n",
    "    # save dataset\n",
    "    np.savez_compressed(os.path.join(output_path1, '%s.npz' % (str(index).zfill(5))), inputs=inputs, outputs=outputs)"
   ]
  },
  {
   "cell_type": "markdown",
   "id": "594a0079-f328-4cb9-833f-454c06a42b30",
   "metadata": {},
   "source": [
    "#### cnn 학습"
   ]
  },
  {
   "cell_type": "code",
   "execution_count": 5,
   "id": "54c737d5-9dd2-49e6-927c-2a1902c68e79",
   "metadata": {
    "tags": []
   },
   "outputs": [],
   "source": [
    "import tensorflow as tf\n",
    "import tensorflow.keras as keras\n",
    "from tensorflow.keras import layers, models\n",
    "import numpy as np\n",
    "from sklearn.model_selection import train_test_split\n",
    "from glob import glob\n",
    "import os\n",
    "from tqdm import tqdm\n",
    "from datetime import datetime\n",
    "from tensorflow.keras.callbacks import ModelCheckpoint, ReduceLROnPlateau\n",
    "\n",
    "os.environ['TF_CPP_MIN_LOG_LEVEL'] = '3'"
   ]
  },
  {
   "cell_type": "code",
   "execution_count": 6,
   "id": "26fb66f7-fd53-4d6c-95ee-fae589c4b857",
   "metadata": {
    "tags": []
   },
   "outputs": [
    {
     "name": "stderr",
     "output_type": "stream",
     "text": [
      "100%|████████████████████████████████████| 11088/11088 [00:13<00:00, 852.01it/s]\n"
     ]
    },
    {
     "name": "stdout",
     "output_type": "stream",
     "text": [
      "(1219423, 40, 40, 1) (1219423, 1600)\n",
      "(304856, 40, 40, 1) (304856, 1600)\n"
     ]
    }
   ],
   "source": [
    "w, h = 40, 40\n",
    "base_path = os.path.join('dataset', '*/*.npz')\n",
    "\n",
    "file_list = glob(base_path)\n",
    "\n",
    "x_data, y_data = [], []\n",
    "for file_path in tqdm(file_list):\n",
    "    data = np.load(file_path)\n",
    "    x_data.extend(data['inputs'])\n",
    "    y_data.extend(data['outputs'])\n",
    "\n",
    "x_data = np.array(x_data, np.float32).reshape((-1, h, w, 1))\n",
    "y_data = np.array(y_data, np.float32).reshape((-1, h * w))\n",
    "\n",
    "x_train, x_val, y_train, y_val = train_test_split(x_data, y_data, test_size=0.2, random_state=2020)\n",
    "\n",
    "del x_data, y_data\n",
    "\n",
    "print(x_train.shape, y_train.shape)\n",
    "print(x_val.shape, y_val.shape)"
   ]
  },
  {
   "cell_type": "code",
   "execution_count": 7,
   "id": "4dd08273-f03d-4892-ad8c-08ae372d7f76",
   "metadata": {},
   "outputs": [
    {
     "name": "stdout",
     "output_type": "stream",
     "text": [
      "Model: \"sequential\"\n",
      "_________________________________________________________________\n",
      " Layer (type)                Output Shape              Param #   \n",
      "=================================================================\n",
      " conv2d (Conv2D)             (None, 40, 40, 64)        3200      \n",
      "                                                                 \n",
      " conv2d_1 (Conv2D)           (None, 40, 40, 128)       401536    \n",
      "                                                                 \n",
      " conv2d_2 (Conv2D)           (None, 40, 40, 256)       1605888   \n",
      "                                                                 \n",
      " conv2d_3 (Conv2D)           (None, 40, 40, 128)       1605760   \n",
      "                                                                 \n",
      " conv2d_4 (Conv2D)           (None, 40, 40, 64)        401472    \n",
      "                                                                 \n",
      " conv2d_5 (Conv2D)           (None, 40, 40, 1)         65        \n",
      "                                                                 \n",
      " reshape (Reshape)           (None, 1600)              0         \n",
      "                                                                 \n",
      " activation (Activation)     (None, 1600)              0         \n",
      "                                                                 \n",
      "=================================================================\n",
      "Total params: 4,017,921\n",
      "Trainable params: 4,017,921\n",
      "Non-trainable params: 0\n",
      "_________________________________________________________________\n"
     ]
    }
   ],
   "source": [
    "model = models.Sequential([\n",
    "    layers.Conv2D(64, 7, activation='relu', padding='same', input_shape=(h, w, 1)),\n",
    "    layers.Conv2D(128, 7, activation='relu', padding='same'),\n",
    "    layers.Conv2D(256, 7, activation='relu', padding='same'),\n",
    "    layers.Conv2D(128, 7, activation='relu', padding='same'),\n",
    "    layers.Conv2D(64, 7, activation='relu', padding='same'),\n",
    "    layers.Conv2D(1, 1, activation=None, padding='same'),\n",
    "    layers.Reshape((h * w,)),\n",
    "    layers.Activation('sigmoid')\n",
    "])\n",
    "\n",
    "model.compile(\n",
    "    optimizer='adam',\n",
    "    loss='binary_crossentropy',\n",
    "    metrics=['acc']\n",
    ")\n",
    "\n",
    "model.summary()"
   ]
  },
  {
   "cell_type": "code",
   "execution_count": 1,
   "id": "c095f52b-2981-497c-b6d8-9b0066497004",
   "metadata": {
    "tags": []
   },
   "outputs": [
    {
     "name": "stdout",
     "output_type": "stream",
     "text": [
      "PyTorch version:2.0.0\n",
      "MPS 장치를 지원하도록 build 되었는지: True\n",
      "MPS 장치가 사용 가능한지: True\n",
      "macOS-10.16-x86_64-i386-64bit\n",
      "device: mps:0\n"
     ]
    }
   ],
   "source": [
    "import torch\n",
    "device = torch.device('mps:0' if torch.backends.mps.is_available() else 'cpu')\n",
    "print (f\"PyTorch version:{torch.__version__}\") # 1.12.1 이상\n",
    "print(f\"MPS 장치를 지원하도록 build 되었는지: {torch.backends.mps.is_built()}\") # True 여야 합니다.\n",
    "print(f\"MPS 장치가 사용 가능한지: {torch.backends.mps.is_available()}\") # True 여야 합니다.\n",
    "!python -c 'import platform;print(platform.platform())'\n",
    "print(f\"device: {device}\")"
   ]
  },
  {
   "cell_type": "code",
   "execution_count": null,
   "id": "105dae41-43d1-4dc4-8e54-518fd600a897",
   "metadata": {
    "tags": []
   },
   "outputs": [
    {
     "name": "stdout",
     "output_type": "stream",
     "text": [
      "Epoch 1/10\n",
      " 199/4764 [>.............................] - ETA: 83:23:24 - loss: 0.0212 - acc: 0.0044"
     ]
    }
   ],
   "source": [
    "start_time = datetime.now().strftime('%Y%m%d_%H%M%S')\n",
    "os.makedirs('models', exist_ok=True)\n",
    "\n",
    "with tf.device('/gpu:0'):\n",
    "    model.fit(\n",
    "        x=x_train,\n",
    "        y=y_train,\n",
    "        batch_size=256,\n",
    "        epochs=10,\n",
    "        callbacks=[\n",
    "            ModelCheckpoint('./models/%s.h5' % (start_time), monitor='val_acc', verbose=1, save_best_only=True, mode='auto'),\n",
    "            ReduceLROnPlateau(monitor='val_acc', factor=0.2, patience=5, verbose=1, mode='auto')\n",
    "        ],\n",
    "        validation_data=(x_val, y_val),\n",
    "        use_multiprocessing=True,\n",
    "        workers=16      #Q. workers가 뭔가요? \n",
    "    )"
   ]
  },
  {
   "cell_type": "code",
   "execution_count": null,
   "id": "d572d268-5caa-4bb8-bd7d-d084b8e701e3",
   "metadata": {
    "tags": []
   },
   "outputs": [
    {
     "name": "stdout",
     "output_type": "stream",
     "text": [
      "Epoch 1/10\n",
      "  32/4764 [..............................] - ETA: 105:41:02 - loss: 0.0697 - acc: 3.6621e-04"
     ]
    }
   ],
   "source": [
    "start_time = datetime.now().strftime('%Y%m%d_%H%M%S')\n",
    "os.makedirs('models', exist_ok=True)\n",
    "\n",
    "model.fit(\n",
    "    x=x_train,\n",
    "    y=y_train,\n",
    "    batch_size=256,\n",
    "    epochs=10,\n",
    "    callbacks=[\n",
    "        ModelCheckpoint('./models/%s.h5' % (start_time), monitor='val_acc', verbose=1, save_best_only=True, mode='auto'),\n",
    "        ReduceLROnPlateau(monitor='val_acc', factor=0.2, patience=5, verbose=1, mode='auto')\n",
    "    ],\n",
    "    validation_data=(x_val, y_val),\n",
    "    use_multiprocessing=True,\n",
    "    workers=16      #Q. workers가 뭔가요? \n",
    ")"
   ]
  },
  {
   "cell_type": "code",
   "execution_count": null,
   "id": "3893407f-b0d9-47d9-b9db-301ea8418cfb",
   "metadata": {},
   "outputs": [],
   "source": [
    "i = 0\n",
    "\n",
    "for y in range(h):\n",
    "    for x in range(w):\n",
    "        print('%2d' % x_val[i][y, x], end='')\n",
    "    print()"
   ]
  },
  {
   "cell_type": "code",
   "execution_count": null,
   "id": "78d22cb4-1ac4-41dc-9657-9ffcd2b45e60",
   "metadata": {},
   "outputs": [],
   "source": [
    "y_pred = model.predict(np.expand_dims(x_val[i], axis=0)).squeeze()\n",
    "y_pred = y_pred.reshape((h, w))\n",
    "\n",
    "y, x = np.unravel_index(np.argmax(y_pred), y_pred.shape)\n",
    "\n",
    "print(x, y, y_pred[y, x])"
   ]
  }
 ],
 "metadata": {
  "kernelspec": {
   "display_name": "Python 3 (ipykernel)",
   "language": "python",
   "name": "python3"
  },
  "language_info": {
   "codemirror_mode": {
    "name": "ipython",
    "version": 3
   },
   "file_extension": ".py",
   "mimetype": "text/x-python",
   "name": "python",
   "nbconvert_exporter": "python",
   "pygments_lexer": "ipython3",
   "version": "3.10.9"
  }
 },
 "nbformat": 4,
 "nbformat_minor": 5
}
